{
 "cells": [
  {
   "cell_type": "code",
   "execution_count": 2,
   "metadata": {},
   "outputs": [],
   "source": [
    "import os\n",
    "import requests"
   ]
  },
  {
   "cell_type": "code",
   "execution_count": 3,
   "metadata": {},
   "outputs": [
    {
     "name": "stdout",
     "output_type": "stream",
     "text": [
      "Video saved as downloaded_video.mp4\n"
     ]
    }
   ],
   "source": [
    "base_urlTest = \"https://scalelite01.ahievran.edu.tr/presentation/3e970288cf54578068bba7b8419667c0eadc8352-1729864821976/deskshare/deskshare.mp4\"\n",
    "\n",
    "response = requests.get(base_urlTest, stream=True)\n",
    "response.raise_for_status() \n",
    "\n",
    "video_extension = os.path.splitext(base_urlTest)[-1]  \n",
    "video_filename = f\"downloaded_video{video_extension}\"  \n",
    "\n",
    "with open(video_filename, \"wb\") as video_file:\n",
    "    for chunk in response.iter_content(chunk_size=8192):  \n",
    "        video_file.write(chunk)\n",
    "\n",
    "print(f\"Video saved as {video_filename}\")"
   ]
  },
  {
   "cell_type": "code",
   "execution_count": 1,
   "metadata": {},
   "outputs": [],
   "source": [
    "import cv2\n",
    "import numpy as np"
   ]
  },
  {
   "cell_type": "code",
   "execution_count": null,
   "metadata": {},
   "outputs": [
    {
     "name": "stdout",
     "output_type": "stream",
     "text": [
      "İşlem tamamlandı, beyaz ekranlar çıkarıldı.\n"
     ]
    }
   ],
   "source": [
    "\n",
    "input_video_path = \"downloaded_video.mp4\"  # Orijinal video yolunu belirttik\n",
    "output_video_path = \"output_video_no_white.mp4\"  # çıktımızın yolu\n",
    "\n",
    "# Videoyu aç\n",
    "cap = cv2.VideoCapture(input_video_path)\n",
    "if not cap.isOpened():\n",
    "    print(\"Video açılamadı.\")\n",
    "    exit()\n",
    "\n",
    "# Video özelliklerini alıyoruz\n",
    "fps = cap.get(cv2.CAP_PROP_FPS)\n",
    "width = int(cap.get(cv2.CAP_PROP_FRAME_WIDTH))\n",
    "height = int(cap.get(cv2.CAP_PROP_FRAME_HEIGHT))\n",
    "\n",
    "# Video yazarını başlatmak için burası(aynı çözünürlük ve FPS ile)\n",
    "fourcc = cv2.VideoWriter_fourcc(*\"mp4v\")\n",
    "out = cv2.VideoWriter(output_video_path, fourcc, fps, (width, height))\n",
    "\n",
    "\n",
    "white_threshold = 200  \n",
    "white_percentage_threshold = 0.95 \n",
    "while cap.isOpened():\n",
    "    ret, frame = cap.read()\n",
    "    if not ret:\n",
    "        break\n",
    "\n",
    "    \n",
    "    gray_frame = cv2.cvtColor(frame, cv2.COLOR_BGR2GRAY)\n",
    "\n",
    "    # Beyaz pikselleri bulmak \n",
    "    white_pixels = np.sum(gray_frame >= white_threshold)\n",
    "    total_pixels = gray_frame.size\n",
    "    white_ratio = white_pixels / total_pixels\n",
    "\n",
    "    if white_ratio < white_percentage_threshold:\n",
    "        out.write(frame) \n",
    "\n",
    "cap.release()\n",
    "out.release()\n",
    "cv2.destroyAllWindows()\n",
    "\n",
    "print(\"İşlem tamamlandı, beyaz ekranlar çıkarıldı.\")\n"
   ]
  },
  {
   "cell_type": "markdown",
   "metadata": {},
   "source": [
    "Bu çıkan videodan çıkan imageleri image to pd websitelarından geçirebilir veya pythondan yapılabilirsiniz.\n",
    "\n",
    "![image](Link.png \"\")\n",
    "\n"
   ]
  }
 ],
 "metadata": {
  "kernelspec": {
   "display_name": "Python 3",
   "language": "python",
   "name": "python3"
  },
  "language_info": {
   "codemirror_mode": {
    "name": "ipython",
    "version": 3
   },
   "file_extension": ".py",
   "mimetype": "text/x-python",
   "name": "python",
   "nbconvert_exporter": "python",
   "pygments_lexer": "ipython3",
   "version": "3.12.0"
  }
 },
 "nbformat": 4,
 "nbformat_minor": 2
}
