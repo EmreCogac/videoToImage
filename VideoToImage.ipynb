{
 "cells": [
  {
   "cell_type": "code",
   "execution_count": null,
   "metadata": {},
   "outputs": [],
   "source": [
    "!pip install opencv-python\n",
    "!pip install pillow"
   ]
  },
  {
   "cell_type": "code",
   "execution_count": 1,
   "metadata": {},
   "outputs": [],
   "source": [
    "import cv2\n",
    "import os\n",
    "import PIL.Image as im"
   ]
  },
  {
   "cell_type": "code",
   "execution_count": null,
   "metadata": {},
   "outputs": [
    {
     "name": "stdout",
     "output_type": "stream",
     "text": [
      "141 frame frames3 klasörüne kaydedildi.\n"
     ]
    }
   ],
   "source": [
    "def extract_frames(video_path, output_folder):\n",
    "    video = cv2.VideoCapture(video_path)\n",
    "    \n",
    "    fps = video.get(cv2.CAP_PROP_FPS)\n",
    "    interval = int(fps * 20) # kaç saiyede bir olmalı ?\n",
    "    # interval = int(fps / 2) # daha hassas işler için böl\n",
    "    \n",
    "    if not os.path.exists(output_folder):\n",
    "        os.makedirs(output_folder)\n",
    "\n",
    "    frame_count = 0  \n",
    "    extracted_count = 0  \n",
    "\n",
    "    while video.isOpened():\n",
    "        ret, frame = video.read()\n",
    "        \n",
    "        if not ret:\n",
    "            break\n",
    "\n",
    "        if frame_count % interval == 0:\n",
    "            frame_filename = f\"{output_folder}/frame_{extracted_count}.jpg\"\n",
    "            cv2.imwrite(frame_filename, frame)\n",
    "            extracted_count += 1\n",
    "\n",
    "        frame_count += 1\n",
    "\n",
    "    video.release()\n",
    "    print(f\"{extracted_count} frame {output_folder} klasörüne kaydedildi.\")\n",
    "\n",
    "\n",
    "video_path = \"output_video_no_white.mp4\"\n",
    "output_folder = \"frames3\"  \n",
    "extract_frames(video_path, output_folder)"
   ]
  },
  {
   "cell_type": "code",
   "execution_count": null,
   "metadata": {},
   "outputs": [],
   "source": [
    "# istenmeyen imageler silmek için exmp\n",
    "def delete_unlisted_frames(folder_path, keep_numbers):\n",
    "    for filename in os.listdir(folder_path):\n",
    "        if filename.startswith(\"frame_\"):\n",
    "            try:\n",
    "                file_number = int(filename.split(\"frame_\")[1].split(\".\")[0])\n",
    "                if file_number not in keep_numbers:\n",
    "                    os.remove(os.path.join(folder_path, filename))\n",
    "                    print(f\"{filename} silindi.\")\n",
    "            except ValueError:\n",
    "                print(f\"{filename} dosya adında numara bulunamadı.\")\n",
    "\n",
    "\n",
    "folder_path = \"frames2\" \n",
    "keep_numbers = {\n",
    "    21,24,30, 27, 30, 33, 38, 44, 50, 56, 62, 65, 80, 85, 88, 92, 97, 101, 103, 109, 114, 121, \n",
    "    126, 130, 135, 140, 144, 150, 157, 162, 166, 170, 174, 179, 187, 193, 197, 203, 210, \n",
    "    218, 220, 223, 226, 228, 229, 230\n",
    "}\n",
    "delete_unlisted_frames(folder_path, keep_numbers)\n"
   ]
  },
  {
   "cell_type": "code",
   "execution_count": null,
   "metadata": {},
   "outputs": [],
   "source": [
    "cropped_images = []\n",
    "#Image dosya yolu\n",
    "frame_path = os.path.join(os.getcwd(), \"frames3/\")\n",
    "#Oluşturulacak pdf yolu\n",
    "output_path = os.path.join(os.getcwd(), \"output.pdf\")\n",
    "\n",
    "\n",
    "for image in os.listdir(frame_path):\n",
    "    random_frame_path = f\"{frame_path}\\\\{image}\"\n",
    "    random_frame = im.open(random_frame_path)\n",
    "    rfi_crop = random_frame.crop((230, 100, 1030, 680))\n",
    "    cropped_images.append(rfi_crop)\n",
    "\n",
    "cropped_images[0].save(\n",
    "    output_path, \"PDF\", resolution=100.0, save_all=True, append_images=cropped_images[1:]\n",
    ")"
   ]
  }
 ],
 "metadata": {
  "kernelspec": {
   "display_name": "journey",
   "language": "python",
   "name": "python3"
  },
  "language_info": {
   "codemirror_mode": {
    "name": "ipython",
    "version": 3
   },
   "file_extension": ".py",
   "mimetype": "text/x-python",
   "name": "python",
   "nbconvert_exporter": "python",
   "pygments_lexer": "ipython3",
   "version": "3.9.20"
  }
 },
 "nbformat": 4,
 "nbformat_minor": 2
}
